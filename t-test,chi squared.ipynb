{
 "cells": [
  {
   "cell_type": "code",
   "execution_count": 16,
   "id": "374fe2d6",
   "metadata": {},
   "outputs": [],
   "source": [
    "import numpy as np\n",
    "import seaborn as sns\n",
    "import pandas as pd\n",
    "from scipy import stats\n",
    "import matplotlib.pyplot as plt\n",
    "%matplotlib inline"
   ]
  },
  {
   "cell_type": "markdown",
   "id": "878eee79",
   "metadata": {},
   "source": [
    "Read the csv file `heart_failure_clinical_records_dataset.csv` into a DataFrame, print the shape, and show the head."
   ]
  },
  {
   "cell_type": "code",
   "execution_count": 17,
   "id": "8e53cb1c",
   "metadata": {},
   "outputs": [
    {
     "name": "stdout",
     "output_type": "stream",
     "text": [
      "(299, 13)\n"
     ]
    },
    {
     "data": {
      "text/html": [
       "<div>\n",
       "<style scoped>\n",
       "    .dataframe tbody tr th:only-of-type {\n",
       "        vertical-align: middle;\n",
       "    }\n",
       "\n",
       "    .dataframe tbody tr th {\n",
       "        vertical-align: top;\n",
       "    }\n",
       "\n",
       "    .dataframe thead th {\n",
       "        text-align: right;\n",
       "    }\n",
       "</style>\n",
       "<table border=\"1\" class=\"dataframe\">\n",
       "  <thead>\n",
       "    <tr style=\"text-align: right;\">\n",
       "      <th></th>\n",
       "      <th>age</th>\n",
       "      <th>anaemia</th>\n",
       "      <th>creatinine_phosphokinase</th>\n",
       "      <th>diabetes</th>\n",
       "      <th>ejection_fraction</th>\n",
       "      <th>high_blood_pressure</th>\n",
       "      <th>platelets</th>\n",
       "      <th>serum_creatinine</th>\n",
       "      <th>serum_sodium</th>\n",
       "      <th>sex</th>\n",
       "      <th>smoking</th>\n",
       "      <th>time</th>\n",
       "      <th>DEATH_EVENT</th>\n",
       "    </tr>\n",
       "  </thead>\n",
       "  <tbody>\n",
       "    <tr>\n",
       "      <th>0</th>\n",
       "      <td>75.0</td>\n",
       "      <td>0</td>\n",
       "      <td>582</td>\n",
       "      <td>0</td>\n",
       "      <td>20</td>\n",
       "      <td>1</td>\n",
       "      <td>265000.00</td>\n",
       "      <td>1.9</td>\n",
       "      <td>130</td>\n",
       "      <td>1</td>\n",
       "      <td>0</td>\n",
       "      <td>4</td>\n",
       "      <td>1</td>\n",
       "    </tr>\n",
       "    <tr>\n",
       "      <th>1</th>\n",
       "      <td>55.0</td>\n",
       "      <td>0</td>\n",
       "      <td>7861</td>\n",
       "      <td>0</td>\n",
       "      <td>38</td>\n",
       "      <td>0</td>\n",
       "      <td>263358.03</td>\n",
       "      <td>1.1</td>\n",
       "      <td>136</td>\n",
       "      <td>1</td>\n",
       "      <td>0</td>\n",
       "      <td>6</td>\n",
       "      <td>1</td>\n",
       "    </tr>\n",
       "    <tr>\n",
       "      <th>2</th>\n",
       "      <td>65.0</td>\n",
       "      <td>0</td>\n",
       "      <td>146</td>\n",
       "      <td>0</td>\n",
       "      <td>20</td>\n",
       "      <td>0</td>\n",
       "      <td>162000.00</td>\n",
       "      <td>1.3</td>\n",
       "      <td>129</td>\n",
       "      <td>1</td>\n",
       "      <td>1</td>\n",
       "      <td>7</td>\n",
       "      <td>1</td>\n",
       "    </tr>\n",
       "    <tr>\n",
       "      <th>3</th>\n",
       "      <td>50.0</td>\n",
       "      <td>1</td>\n",
       "      <td>111</td>\n",
       "      <td>0</td>\n",
       "      <td>20</td>\n",
       "      <td>0</td>\n",
       "      <td>210000.00</td>\n",
       "      <td>1.9</td>\n",
       "      <td>137</td>\n",
       "      <td>1</td>\n",
       "      <td>0</td>\n",
       "      <td>7</td>\n",
       "      <td>1</td>\n",
       "    </tr>\n",
       "    <tr>\n",
       "      <th>4</th>\n",
       "      <td>65.0</td>\n",
       "      <td>1</td>\n",
       "      <td>160</td>\n",
       "      <td>1</td>\n",
       "      <td>20</td>\n",
       "      <td>0</td>\n",
       "      <td>327000.00</td>\n",
       "      <td>2.7</td>\n",
       "      <td>116</td>\n",
       "      <td>0</td>\n",
       "      <td>0</td>\n",
       "      <td>8</td>\n",
       "      <td>1</td>\n",
       "    </tr>\n",
       "  </tbody>\n",
       "</table>\n",
       "</div>"
      ],
      "text/plain": [
       "    age  anaemia  creatinine_phosphokinase  diabetes  ejection_fraction  \\\n",
       "0  75.0        0                       582         0                 20   \n",
       "1  55.0        0                      7861         0                 38   \n",
       "2  65.0        0                       146         0                 20   \n",
       "3  50.0        1                       111         0                 20   \n",
       "4  65.0        1                       160         1                 20   \n",
       "\n",
       "   high_blood_pressure  platelets  serum_creatinine  serum_sodium  sex  \\\n",
       "0                    1  265000.00               1.9           130    1   \n",
       "1                    0  263358.03               1.1           136    1   \n",
       "2                    0  162000.00               1.3           129    1   \n",
       "3                    0  210000.00               1.9           137    1   \n",
       "4                    0  327000.00               2.7           116    0   \n",
       "\n",
       "   smoking  time  DEATH_EVENT  \n",
       "0        0     4            1  \n",
       "1        0     6            1  \n",
       "2        1     7            1  \n",
       "3        0     7            1  \n",
       "4        0     8            1  "
      ]
     },
     "execution_count": 17,
     "metadata": {},
     "output_type": "execute_result"
    }
   ],
   "source": [
    "df=pd.read_csv('heart_failure_clinical_records_dataset.csv')\n",
    "print(df.shape)\n",
    "df.head()"
   ]
  },
  {
   "cell_type": "markdown",
   "id": "36b2e7e0",
   "metadata": {},
   "source": [
    "This is a dataset of 299 patients with heart failure collected in 2015.\n",
    "\n",
    "Source: https://archive.ics.uci.edu/ml/datasets/Heart+failure+clinical+records\n",
    "\n",
    "Attribute Information:\n",
    "\n",
    "- **age**: age of the patient (years)\n",
    "- **anaemia**: decrease of red blood cells or hemoglobin (boolean)\n",
    "- **high blood pressure**: if the patient has hypertension (boolean)\n",
    "- **creatinine phosphokinase** (CPK): level of the CPK enzyme in the blood (mcg/L)\n",
    "- **diabetes**: if the patient has diabetes (boolean)\n",
    "- **ejection fraction**: percentage of blood leaving the heart at each contraction (percentage)\n",
    "- **platelets**: platelets in the blood (kiloplatelets/mL)\n",
    "- **sex**: woman or man (binary)\n",
    "- **serum creatinine**: level of serum creatinine in the blood (mg/dL)\n",
    "- **serum sodium**: level of serum sodium in the blood (mEq/L)\n",
    "- **smoking**: if the patient smokes or not (boolean)\n",
    "- **time**: follow-up period (days)\n",
    "- [target] **death event**: if the patient deceased during the follow-up period (boolean)\n",
    "\n"
   ]
  },
  {
   "cell_type": "markdown",
   "id": "0c183464",
   "metadata": {},
   "source": [
    "### Task 1\n",
    "\n",
    "Find the counts of `DEATH_EVENT` values. This tells us how many patients were survived (`DEATH_EVENT`=0) and how many were deceased (`DEATH_EVENT`=1)."
   ]
  },
  {
   "cell_type": "code",
   "execution_count": 18,
   "id": "5c1cff38",
   "metadata": {},
   "outputs": [
    {
     "data": {
      "text/plain": [
       "0    203\n",
       "1     96\n",
       "Name: DEATH_EVENT, dtype: int64"
      ]
     },
     "execution_count": 18,
     "metadata": {},
     "output_type": "execute_result"
    }
   ],
   "source": [
    "df['DEATH_EVENT'].value_counts()"
   ]
  },
  {
   "cell_type": "markdown",
   "id": "791f35c9",
   "metadata": {},
   "source": [
    "### Task 2\n",
    "\n",
    "Find the correlation of `DEATH_EVENT` with each of the following attributes:\n",
    "`age`, `creatinine_phosphokinase`, `ejection_fraction`, `platelets`, `serum_creatinine`, and `serum_sodium`. \n",
    "\n",
    "What are the two attributes that have the strongest correlation (positive or negative) with `DEATH_EVENT`?"
   ]
  },
  {
   "cell_type": "code",
   "execution_count": 21,
   "id": "3e9a337f",
   "metadata": {},
   "outputs": [],
   "source": [
    "corr_of_DE=df[['age','creatinine_phosphokinase','ejection_fraction','platelets','serum_creatinine','serum_sodium']].corrwith(df['DEATH_EVENT'])"
   ]
  },
  {
   "cell_type": "code",
   "execution_count": 22,
   "id": "504602a2",
   "metadata": {},
   "outputs": [
    {
     "name": "stdout",
     "output_type": "stream",
     "text": [
      "age                         0.253729\n",
      "creatinine_phosphokinase    0.062728\n",
      "ejection_fraction          -0.268603\n",
      "platelets                  -0.049139\n",
      "serum_creatinine            0.294278\n",
      "serum_sodium               -0.195204\n",
      "dtype: float64\n"
     ]
    }
   ],
   "source": [
    "print(corr_of_DE)"
   ]
  },
  {
   "cell_type": "code",
   "execution_count": 7,
   "id": "c52ee862",
   "metadata": {},
   "outputs": [],
   "source": [
    "#-0.268 the strongest negative correlation of 'ejection_fraction' with 'DEATH_EVENT'\n",
    "# 0.294 the strongest positive correlation of 'serum_creatinine' with 'DEATH_EVENT'"
   ]
  },
  {
   "cell_type": "markdown",
   "id": "60153c18",
   "metadata": {},
   "source": [
    "### Task 3\n",
    "\n",
    "Create two subsets, one for survived patients (call it `df1`), and the other for deceased patients (call it `df2`), then print the shape of each."
   ]
  },
  {
   "cell_type": "code",
   "execution_count": 24,
   "id": "d833a097",
   "metadata": {},
   "outputs": [
    {
     "name": "stdout",
     "output_type": "stream",
     "text": [
      "(203, 13)\n",
      "(96, 13)\n"
     ]
    }
   ],
   "source": [
    "df1=df[df['DEATH_EVENT']==0]\n",
    "df2=df[df['DEATH_EVENT']==1]\n",
    "print(df1.shape)\n",
    "print(df2.shape)"
   ]
  },
  {
   "cell_type": "markdown",
   "id": "825dcb43",
   "metadata": {},
   "source": [
    "The following code will show a visualization that compares the two categories in terms of the six attributes: "
   ]
  },
  {
   "cell_type": "code",
   "execution_count": 25,
   "id": "f813871d",
   "metadata": {},
   "outputs": [],
   "source": [
    "attributes = ['age', 'creatinine_phosphokinase', 'ejection_fraction', \n",
    "              'platelets', 'serum_creatinine', 'serum_sodium']"
   ]
  },
  {
   "cell_type": "code",
   "execution_count": 26,
   "id": "9085c8ac",
   "metadata": {},
   "outputs": [
    {
     "data": {
      "image/png": "[encoded data removed]",
      "text/plain": [
       "<Figure size 864x576 with 6 Axes>"
      ]
     },
     "metadata": {
      "needs_background": "light"
     },
     "output_type": "display_data"
    }
   ],
   "source": [
    "fig, axs = plt.subplots(2,3, figsize=(12,8))\n",
    "for i in range(2):\n",
    "    for j in range(3):\n",
    "        k = 2*i+j\n",
    "        attr = attributes[k]\n",
    "        ax = axs[i,j]\n",
    "        ax.boxplot([df1[attr], df2[attr]]);\n",
    "        ax.set_title(attr)\n",
    "        ax.set_xticklabels(['survived', 'deceased'])\n",
    "plt.subplots_adjust(wspace=.25)        "
   ]
  },
  {
   "cell_type": "markdown",
   "id": "89e0b3bc",
   "metadata": {},
   "source": [
    "### Task 4\n",
    "\n",
    "Perform a t-test to examine a hypothesis that says: the average age of deceased patients is greater than 60 years, with a 99% confidence level.\n",
    "\n",
    "* $H_0 : \\mu \\leq 60$\n",
    "* $H_a : \\mu > 60$\n",
    "\n",
    "First select the suitable sample, and set the significance level.\n",
    "Then, choose which function and parameters should you use for the t-test.\n",
    "Finally, compare the p-value to the significance level and make the decision, and interpret it."
   ]
  },
  {
   "cell_type": "code",
   "execution_count": 27,
   "id": "5d0d08c4",
   "metadata": {},
   "outputs": [
    {
     "name": "stdout",
     "output_type": "stream",
     "text": [
      "96 65.21528125\n",
      "p-value 0.00010088512548265157\n",
      "We reject the null hypothesis\n"
     ]
    }
   ],
   "source": [
    "X = df[df['DEATH_EVENT']==1]['age']\n",
    "print(len(X), X.mean())\n",
    "\n",
    "\n",
    "alpha = 0.01  \n",
    "\n",
    "tstat, pval =  stats.ttest_1samp(a=X, popmean=60, alternative='greater')\n",
    "print(\"p-value\", pval)\n",
    "\n",
    "if pval < alpha: \n",
    "    print(\"We reject the null hypothesis\")\n",
    "else:\n",
    "    print(\"We fail to reject the null hypothesis\")"
   ]
  },
  {
   "cell_type": "markdown",
   "id": "37f2f32e",
   "metadata": {},
   "source": [
    "### Task 5\n",
    "\n",
    "Perform a t-test to examine the hypothesis that says: the average platelets is different for survived patients from deceased patients."
   ]
  },
  {
   "cell_type": "code",
   "execution_count": 28,
   "id": "38abae49",
   "metadata": {},
   "outputs": [
    {
     "name": "stdout",
     "output_type": "stream",
     "text": [
      "256381.0447916667 266657.4899014779\n",
      "p-value 0.3971941540413678\n",
      "We fail to reject the null hypothesis\n"
     ]
    }
   ],
   "source": [
    "A = df[df['DEATH_EVENT']==1]['platelets']\n",
    "B =df[df['DEATH_EVENT']==0]['platelets']\n",
    "print(A.mean(), B.mean())\n",
    "\n",
    "alpha = 0.01  # level of significance\n",
    "\n",
    "tstat, pval = stats.ttest_ind(a=A, b=B, alternative='two-sided')\n",
    "print(\"p-value\", pval)\n",
    "\n",
    "if pval < alpha: \n",
    "    print(\"We reject the null hypothesis\")\n",
    "else:\n",
    "    print(\"We fail to reject the null hypothesis\")"
   ]
  },
  {
   "cell_type": "markdown",
   "id": "82a9934a",
   "metadata": {},
   "source": [
    "### Task 7\n",
    "\n",
    "Perform a t-test to examine the hypothesis that the average serum creatinine is lower for survived patients than for deceased patients. "
   ]
  },
  {
   "cell_type": "code",
   "execution_count": 29,
   "id": "7ece7cf1",
   "metadata": {},
   "outputs": [
    {
     "name": "stdout",
     "output_type": "stream",
     "text": [
      "1.8358333333333332 1.184876847290641\n",
      "p-value 0.9999998904901072\n",
      "We fail to reject the null hypothesis\n"
     ]
    }
   ],
   "source": [
    "A=df[df['DEATH_EVENT']==1]['serum_creatinine']\n",
    "B=df[df['DEATH_EVENT']==0]['serum_creatinine']\n",
    "\n",
    "print(A.mean(), B.mean())\n",
    "\n",
    "alpha = 0.01  # level of significance\n",
    "\n",
    "tstat, pval = stats.ttest_ind(a=A, b=B, alternative='less')\n",
    "print(\"p-value\", pval)\n",
    "\n",
    "if pval < alpha: \n",
    "    print(\"We reject the null hypothesis\")\n",
    "else:\n",
    "    print(\"We fail to reject the null hypothesis\")"
   ]
  },
  {
   "cell_type": "markdown",
   "id": "3c804919",
   "metadata": {},
   "source": [
    "### Task 8\n",
    "\n",
    "Find the contingency table of `smoking` and `DEATH_EVENT`.\n",
    "\n",
    "Then, perform a chi-squared test to examine whether `DEATH_EVENT` is depenedent or independent from `smoking`. Use a 95% confidence level."
   ]
  },
  {
   "cell_type": "code",
   "execution_count": 30,
   "id": "662ef0a6",
   "metadata": {},
   "outputs": [
    {
     "data": {
      "text/html": [
       "<div>\n",
       "<style scoped>\n",
       "    .dataframe tbody tr th:only-of-type {\n",
       "        vertical-align: middle;\n",
       "    }\n",
       "\n",
       "    .dataframe tbody tr th {\n",
       "        vertical-align: top;\n",
       "    }\n",
       "\n",
       "    .dataframe thead th {\n",
       "        text-align: right;\n",
       "    }\n",
       "</style>\n",
       "<table border=\"1\" class=\"dataframe\">\n",
       "  <thead>\n",
       "    <tr style=\"text-align: right;\">\n",
       "      <th>smoking</th>\n",
       "      <th>0</th>\n",
       "      <th>1</th>\n",
       "    </tr>\n",
       "    <tr>\n",
       "      <th>DEATH_EVENT</th>\n",
       "      <th></th>\n",
       "      <th></th>\n",
       "    </tr>\n",
       "  </thead>\n",
       "  <tbody>\n",
       "    <tr>\n",
       "      <th>0</th>\n",
       "      <td>137</td>\n",
       "      <td>66</td>\n",
       "    </tr>\n",
       "    <tr>\n",
       "      <th>1</th>\n",
       "      <td>66</td>\n",
       "      <td>30</td>\n",
       "    </tr>\n",
       "  </tbody>\n",
       "</table>\n",
       "</div>"
      ],
      "text/plain": [
       "smoking        0   1\n",
       "DEATH_EVENT         \n",
       "0            137  66\n",
       "1             66  30"
      ]
     },
     "execution_count": 30,
     "metadata": {},
     "output_type": "execute_result"
    }
   ],
   "source": [
    "contingency_table = pd.crosstab(df[\"DEATH_EVENT\"], df[\"smoking\"])\n",
    "contingency_table"
   ]
  },
  {
   "cell_type": "code",
   "execution_count": 31,
   "id": "e14f1bb7",
   "metadata": {},
   "outputs": [
    {
     "name": "stdout",
     "output_type": "stream",
     "text": [
      "Degree of Freedom: 1\n"
     ]
    }
   ],
   "source": [
    "rowsum = np.array(contingency_table.sum(axis=0)).reshape(1,-1)\n",
    "colsum = np.array(contingency_table.sum(axis=1)).reshape(-1,1)\n",
    "n = len(df) \n",
    "expected_values = (rowsum * colsum)/n\n",
    "expected_values\n",
    "no_of_rows= contingency_table.shape[0]\n",
    "no_of_columns = contingency_table.shape[1]\n",
    "dof=(no_of_rows-1)*(no_of_columns-1)\n",
    "print(\"Degree of Freedom:\", dof)\n"
   ]
  },
  {
   "cell_type": "code",
   "execution_count": 32,
   "id": "d3978243",
   "metadata": {},
   "outputs": [
    {
     "name": "stdout",
     "output_type": "stream",
     "text": [
      "chi2 stat 0.007331473567119502\n",
      "p-value 0.9317652998235507\n",
      "Degree of Freedom: 1\n",
      "Expected Values:\n",
      " [[137.82274247  65.17725753]\n",
      " [ 65.17725753  30.82274247]]\n",
      "We fail to reject the null hypothesis H0 (Categories are Independent)\n"
     ]
    }
   ],
   "source": [
    "chi2stat, pval, dof, expected = stats.chi2_contingency(contingency_table)\n",
    "print('chi2 stat', chi2stat)\n",
    "print('p-value', pval)\n",
    "print('Degree of Freedom:', dof)\n",
    "print(\"Expected Values:\\n\", expected)\n",
    "alpha = 0.05\n",
    "\n",
    "if pval <= alpha:\n",
    "    print('We reject the null hypothesis H0 (Categories are Dependent)')\n",
    "else:\n",
    "    print('We fail to reject the null hypothesis H0 (Categories are Independent)')"
   ]
  },
  {
   "cell_type": "markdown",
   "id": "14b3e4b9",
   "metadata": {},
   "source": [
    "### Task 9\n",
    "\n",
    "Find the contingency table of `sex` and `DEATH_EVENT`.\n",
    "\n",
    "Then, perform a chi-squared test to examine whether `DEATH_EVENT` is depenedent or independent from `sex`. Use a 95% confidence level."
   ]
  },
  {
   "cell_type": "code",
   "execution_count": 44,
   "id": "5e270ec1",
   "metadata": {},
   "outputs": [
    {
     "data": {
      "text/html": [
       "<div>\n",
       "<style scoped>\n",
       "    .dataframe tbody tr th:only-of-type {\n",
       "        vertical-align: middle;\n",
       "    }\n",
       "\n",
       "    .dataframe tbody tr th {\n",
       "        vertical-align: top;\n",
       "    }\n",
       "\n",
       "    .dataframe thead th {\n",
       "        text-align: right;\n",
       "    }\n",
       "</style>\n",
       "<table border=\"1\" class=\"dataframe\">\n",
       "  <thead>\n",
       "    <tr style=\"text-align: right;\">\n",
       "      <th>sex</th>\n",
       "      <th>0</th>\n",
       "      <th>1</th>\n",
       "    </tr>\n",
       "    <tr>\n",
       "      <th>DEATH_EVENT</th>\n",
       "      <th></th>\n",
       "      <th></th>\n",
       "    </tr>\n",
       "  </thead>\n",
       "  <tbody>\n",
       "    <tr>\n",
       "      <th>0</th>\n",
       "      <td>71</td>\n",
       "      <td>132</td>\n",
       "    </tr>\n",
       "    <tr>\n",
       "      <th>1</th>\n",
       "      <td>34</td>\n",
       "      <td>62</td>\n",
       "    </tr>\n",
       "  </tbody>\n",
       "</table>\n",
       "</div>"
      ],
      "text/plain": [
       "sex           0    1\n",
       "DEATH_EVENT         \n",
       "0            71  132\n",
       "1            34   62"
      ]
     },
     "execution_count": 44,
     "metadata": {},
     "output_type": "execute_result"
    }
   ],
   "source": [
    "contingency_table = pd.crosstab(df[\"DEATH_EVENT\"], df[\"sex\"])\n",
    "contingency_table"
   ]
  },
  {
   "cell_type": "code",
   "execution_count": 33,
   "id": "aed0df9e",
   "metadata": {},
   "outputs": [
    {
     "name": "stdout",
     "output_type": "stream",
     "text": [
      "Degree of Freedom: 1\n",
      "chi2 stat 0.007331473567119502\n",
      "p-value 0.9317652998235507\n",
      "Degree of Freedom: 1\n",
      "Expected Values:\n",
      " [[137.82274247  65.17725753]\n",
      " [ 65.17725753  30.82274247]]\n",
      "We fail to reject the null hypothesis H0 (Categories are Independent)\n"
     ]
    }
   ],
   "source": [
    "rowsum = np.array(contingency_table.sum(axis=0)).reshape(1,-1)\n",
    "colsum = np.array(contingency_table.sum(axis=1)).reshape(-1,1)\n",
    "n = len(df) \n",
    "expected_values = (rowsum * colsum)/n\n",
    "expected_values\n",
    "no_of_rows= contingency_table.shape[0]\n",
    "no_of_columns = contingency_table.shape[1]\n",
    "dof=(no_of_rows-1)*(no_of_columns-1)\n",
    "print(\"Degree of Freedom:\", dof)\n",
    "\n",
    "chi2stat, pval, dof, expected = stats.chi2_contingency(contingency_table)\n",
    "print('chi2 stat', chi2stat)\n",
    "print('p-value', pval)\n",
    "print('Degree of Freedom:', dof)\n",
    "print(\"Expected Values:\\n\", expected)\n",
    "alpha = 0.05\n",
    "\n",
    "if pval <= alpha:\n",
    "    print('We reject the null hypothesis H0 (Categories are Dependent)')\n",
    "else:\n",
    "    print('We fail to reject the null hypothesis H0 (Categories are Independent)')\n",
    "    "
   ]
  },
  {
   "cell_type": "markdown",
   "id": "765e01eb",
   "metadata": {},
   "source": [
    "### Task 10\n",
    "\n",
    "Find the contingency table of `smoking` and `diabetes`.\n",
    "\n",
    "Then, perform a chi-squared test to examine whether those factors are independent from each other. Use a 95% confidence level."
   ]
  },
  {
   "cell_type": "code",
   "execution_count": 34,
   "id": "14b6290f",
   "metadata": {},
   "outputs": [
    {
     "data": {
      "text/html": [
       "<div>\n",
       "<style scoped>\n",
       "    .dataframe tbody tr th:only-of-type {\n",
       "        vertical-align: middle;\n",
       "    }\n",
       "\n",
       "    .dataframe tbody tr th {\n",
       "        vertical-align: top;\n",
       "    }\n",
       "\n",
       "    .dataframe thead th {\n",
       "        text-align: right;\n",
       "    }\n",
       "</style>\n",
       "<table border=\"1\" class=\"dataframe\">\n",
       "  <thead>\n",
       "    <tr style=\"text-align: right;\">\n",
       "      <th>diabetes</th>\n",
       "      <th>0</th>\n",
       "      <th>1</th>\n",
       "    </tr>\n",
       "    <tr>\n",
       "      <th>smoking</th>\n",
       "      <th></th>\n",
       "      <th></th>\n",
       "    </tr>\n",
       "  </thead>\n",
       "  <tbody>\n",
       "    <tr>\n",
       "      <th>0</th>\n",
       "      <td>108</td>\n",
       "      <td>95</td>\n",
       "    </tr>\n",
       "    <tr>\n",
       "      <th>1</th>\n",
       "      <td>66</td>\n",
       "      <td>30</td>\n",
       "    </tr>\n",
       "  </tbody>\n",
       "</table>\n",
       "</div>"
      ],
      "text/plain": [
       "diabetes    0   1\n",
       "smoking          \n",
       "0         108  95\n",
       "1          66  30"
      ]
     },
     "execution_count": 34,
     "metadata": {},
     "output_type": "execute_result"
    }
   ],
   "source": [
    "contingency_table = pd.crosstab(df[\"smoking\"], df[\"diabetes\"])\n",
    "contingency_table"
   ]
  },
  {
   "cell_type": "code",
   "execution_count": 35,
   "id": "c88d4f45",
   "metadata": {},
   "outputs": [
    {
     "name": "stdout",
     "output_type": "stream",
     "text": [
      "Degree of Freedom: 1\n",
      "chi2 stat 5.853025486358831\n",
      "p-value 0.01555029458448228\n",
      "Degree of Freedom: 1\n",
      "Expected Values:\n",
      " [[118.13377926  84.86622074]\n",
      " [ 55.86622074  40.13377926]]\n",
      "We reject the null hypothesis H0 (Categories are Dependent)\n"
     ]
    }
   ],
   "source": [
    "rowsum = np.array(contingency_table.sum(axis=0)).reshape(1,-1)\n",
    "colsum = np.array(contingency_table.sum(axis=1)).reshape(-1,1)\n",
    "n = len(df) \n",
    "expected_values = (rowsum * colsum)/n\n",
    "expected_values\n",
    "no_of_rows= contingency_table.shape[0]\n",
    "no_of_columns = contingency_table.shape[1]\n",
    "dof=(no_of_rows-1)*(no_of_columns-1)\n",
    "print(\"Degree of Freedom:\", dof)\n",
    "\n",
    "chi2stat, pval, dof, expected = stats.chi2_contingency(contingency_table)\n",
    "print('chi2 stat', chi2stat)\n",
    "print('p-value', pval)\n",
    "print('Degree of Freedom:', dof)\n",
    "print(\"Expected Values:\\n\", expected)\n",
    "alpha = 0.05\n",
    "\n",
    "if pval <= alpha:\n",
    "    print('We reject the null hypothesis H0 (Categories are Dependent)')\n",
    "else:\n",
    "    print('We fail to reject the null hypothesis H0 (Categories are Independent)')\n",
    "    "
   ]
  },
  {
   "cell_type": "markdown",
   "id": "8bf77e9a",
   "metadata": {},
   "source": [
    "Davide Chicco, Giuseppe Jurman: \"Machine learning can predict survival of patients with heart failure from serum creatinine and ejection fraction alone\". BMC Medical Informatics and Decision Making 20, 16 (2020).\n",
    "\n",
    "https://bmcmedinformdecismak.biomedcentral.com/articles/10.1186/s12911-020-1023-5"
   ]
  }
 ],
 "metadata": {
  "kernelspec": {
   "display_name": "Python 3 (ipykernel)",
   "language": "python",
   "name": "python3"
  },
  "language_info": {
   "codemirror_mode": {
    "name": "ipython",
    "version": 3
   },
   "file_extension": ".py",
   "mimetype": "text/x-python",
   "name": "python",
   "nbconvert_exporter": "python",
   "pygments_lexer": "ipython3",
   "version": "3.9.7"
  }
 },
 "nbformat": 4,
 "nbformat_minor": 5
}
